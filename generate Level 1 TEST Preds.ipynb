{
 "cells": [
  {
   "cell_type": "code",
   "execution_count": 1,
   "metadata": {
    "collapsed": false
   },
   "outputs": [
    {
     "name": "stderr",
     "output_type": "stream",
     "text": [
      "Using Theano backend.\n"
     ]
    }
   ],
   "source": [
    "import time\n",
    "\n",
    "import pandas as pd\n",
    "import numpy as np\n",
    "\n",
    "import joblib \n",
    "\n",
    "from sklearn.ensemble import GradientBoostingClassifier, ExtraTreesClassifier, RandomForestClassifier\n",
    "from sklearn.tree import DecisionTreeClassifier\n",
    "from sklearn.naive_bayes import BernoulliNB\n",
    "from sklearn.neighbors import KNeighborsClassifier\n",
    "from sklearn.linear_model import LogisticRegression\n",
    "from sklearn.svm import SVC\n",
    "import xgboost\n",
    "from keras.models import Sequential\n",
    "from keras.layers.core import Dense, Activation\n",
    "from keras.callbacks import ModelCheckpoint\n",
    "from keras.regularizers import l2\n",
    "from keras.models import model_from_json\n"
   ]
  },
  {
   "cell_type": "code",
   "execution_count": 2,
   "metadata": {
    "collapsed": true
   },
   "outputs": [],
   "source": [
    "level1Clfs = [\n",
    "    {\"model_id\": \"gbc_mf10\", \"clf\": GradientBoostingClassifier(max_features=10), \"n_models\":20},\n",
    "    {\"model_id\": \"xgb_lr0.005_ne125\", \"clf\": xgboost.XGBClassifier(learning_rate=0.05, n_estimators=125), \"n_models\":20},\n",
    "    {\"model_id\": \"etc_ne100_md6_mf30\", \"clf\": ExtraTreesClassifier(n_estimators=100, max_depth=6, max_features=30), \"n_models\":20},\n",
    "    {\"model_id\": \"rfc_ne125_md6\", \"clf\": RandomForestClassifier(n_estimators=125, max_depth=6), \"n_models\":20},\n",
    "    {\"model_id\": \"dtc_md5_mf75\", \"clf\": DecisionTreeClassifier(max_depth=5, max_features=75), \"n_models\":20},\n",
    "    {\"model_id\": \"bnb_a0.001\", \"clf\": BernoulliNB(alpha=0.001), \"n_models\":20},\n",
    "    {\"model_id\": \"lr_c0.001\", \"clf\": LogisticRegression(C=0.001), \"n_models\":20},\n",
    "    {\"model_id\": \"svm_c0.25_proba_true\", \"clf\": SVC(C=0.25, probability=True), \"n_models\":20},\n",
    "    {\"model_id\": \"knn_nn75\", \"clf\": KNeighborsClassifier(n_neighbors=75), \"n_models\":8}, # only 8 models (folds: 0-7) trained for this algo. it takes ~45 mins to train a model on full training set!!!    \n",
    "    {\"model_id\": \"fnn_keras_h100sig_o2softm_regl20.01_bs10_ep100_sgd\", \"clf\": \"Keras [3920, 100 sigmoid (l2(0.01)), 2 softmax (l2(0.01))], batch:10, epochs:100, optimizer: sgd, regularizers: (l2, l2), best_model_metric: None (Last Model of iteration)\", \"n_models\":20} \n",
    "]"
   ]
  },
  {
   "cell_type": "code",
   "execution_count": 4,
   "metadata": {
    "collapsed": false
   },
   "outputs": [],
   "source": [
    "testTransformedDF = pd.read_csv('./data/testTransformed.csv')"
   ]
  },
  {
   "cell_type": "code",
   "execution_count": 7,
   "metadata": {
    "collapsed": false
   },
   "outputs": [
    {
     "name": "stdout",
     "output_type": "stream",
     "text": [
      "(75818, 3921)\n"
     ]
    }
   ],
   "source": [
    "print testTransformedDF.shape"
   ]
  },
  {
   "cell_type": "code",
   "execution_count": 6,
   "metadata": {
    "collapsed": true
   },
   "outputs": [],
   "source": [
    "#trainLabels = trainTransformedDF['TARGET']\n",
    "testFeatures = testTransformedDF.drop(['ID'], axis=1)"
   ]
  },
  {
   "cell_type": "code",
   "execution_count": 8,
   "metadata": {
    "collapsed": false
   },
   "outputs": [
    {
     "data": {
      "text/plain": [
       "(75818, 3920)"
      ]
     },
     "execution_count": 8,
     "metadata": {},
     "output_type": "execute_result"
    }
   ],
   "source": [
    "testFeatures.shape"
   ]
  },
  {
   "cell_type": "code",
   "execution_count": 9,
   "metadata": {
    "collapsed": false,
    "scrolled": false
   },
   "outputs": [
    {
     "name": "stdout",
     "output_type": "stream",
     "text": [
      "Processing model_id: gbc_mf10\n",
      "Finished processing fold 1 of 20 at 0.2 mins.\n",
      "Finished processing fold 2 of 20 at 0.1 mins.\n",
      "Finished processing fold 3 of 20 at 0.1 mins.\n",
      "Finished processing fold 4 of 20 at 0.1 mins.\n",
      "Finished processing fold 5 of 20 at 0.1 mins.\n",
      "Finished processing fold 6 of 20 at 0.1 mins.\n",
      "Finished processing fold 7 of 20 at 0.1 mins.\n",
      "Finished processing fold 8 of 20 at 0.1 mins.\n",
      "Finished processing fold 9 of 20 at 0.2 mins.\n",
      "Finished processing fold 10 of 20 at 0.1 mins.\n",
      "Finished processing fold 11 of 20 at 0.2 mins.\n",
      "Finished processing fold 12 of 20 at 0.1 mins.\n",
      "Finished processing fold 13 of 20 at 0.2 mins.\n",
      "Finished processing fold 14 of 20 at 0.1 mins.\n",
      "Finished processing fold 15 of 20 at 0.2 mins.\n",
      "Finished processing fold 16 of 20 at 0.2 mins.\n",
      "Finished processing fold 17 of 20 at 0.2 mins.\n",
      "Finished processing fold 18 of 20 at 0.1 mins.\n",
      "Finished processing fold 19 of 20 at 0.1 mins.\n",
      "Finished processing fold 20 of 20 at 0.1 mins.\n",
      "Processing model_id: xgb_lr0.005_ne125\n",
      "Finished processing fold 1 of 20 at 0.6 mins.\n",
      "Finished processing fold 2 of 20 at 0.7 mins.\n",
      "Finished processing fold 3 of 20 at 0.7 mins.\n",
      "Finished processing fold 4 of 20 at 0.7 mins.\n",
      "Finished processing fold 5 of 20 at 0.7 mins.\n",
      "Finished processing fold 6 of 20 at 0.7 mins.\n",
      "Finished processing fold 7 of 20 at 0.7 mins.\n",
      "Finished processing fold 8 of 20 at 0.7 mins.\n",
      "Finished processing fold 9 of 20 at 0.7 mins.\n",
      "Finished processing fold 10 of 20 at 0.7 mins.\n",
      "Finished processing fold 11 of 20 at 0.7 mins.\n",
      "Finished processing fold 12 of 20 at 0.7 mins.\n",
      "Finished processing fold 13 of 20 at 0.7 mins.\n",
      "Finished processing fold 14 of 20 at 0.7 mins.\n",
      "Finished processing fold 15 of 20 at 0.7 mins.\n",
      "Finished processing fold 16 of 20 at 0.7 mins.\n",
      "Finished processing fold 17 of 20 at 0.7 mins.\n",
      "Finished processing fold 18 of 20 at 0.6 mins.\n",
      "Finished processing fold 19 of 20 at 0.6 mins.\n",
      "Finished processing fold 20 of 20 at 0.7 mins.\n",
      "Processing model_id: etc_ne100_md6_mf30\n",
      "Finished processing fold 1 of 20 at 0.1 mins.\n",
      "Finished processing fold 2 of 20 at 0.0 mins.\n",
      "Finished processing fold 3 of 20 at 0.0 mins.\n",
      "Finished processing fold 4 of 20 at 0.0 mins.\n",
      "Finished processing fold 5 of 20 at 0.0 mins.\n",
      "Finished processing fold 6 of 20 at 0.0 mins.\n",
      "Finished processing fold 7 of 20 at 0.0 mins.\n",
      "Finished processing fold 8 of 20 at 0.0 mins.\n",
      "Finished processing fold 9 of 20 at 0.0 mins.\n",
      "Finished processing fold 10 of 20 at 0.0 mins.\n",
      "Finished processing fold 11 of 20 at 0.0 mins.\n",
      "Finished processing fold 12 of 20 at 0.0 mins.\n",
      "Finished processing fold 13 of 20 at 0.0 mins.\n",
      "Finished processing fold 14 of 20 at 0.0 mins.\n",
      "Finished processing fold 15 of 20 at 0.0 mins.\n",
      "Finished processing fold 16 of 20 at 0.0 mins.\n",
      "Finished processing fold 17 of 20 at 0.0 mins.\n",
      "Finished processing fold 18 of 20 at 0.0 mins.\n",
      "Finished processing fold 19 of 20 at 0.0 mins.\n",
      "Finished processing fold 20 of 20 at 0.0 mins.\n",
      "Processing model_id: rfc_ne125_md6\n",
      "Finished processing fold 1 of 20 at 0.0 mins.\n",
      "Finished processing fold 2 of 20 at 0.0 mins.\n",
      "Finished processing fold 3 of 20 at 0.0 mins.\n",
      "Finished processing fold 4 of 20 at 0.0 mins.\n",
      "Finished processing fold 5 of 20 at 0.0 mins.\n",
      "Finished processing fold 6 of 20 at 0.1 mins.\n",
      "Finished processing fold 7 of 20 at 0.0 mins.\n",
      "Finished processing fold 8 of 20 at 0.0 mins.\n",
      "Finished processing fold 9 of 20 at 0.0 mins.\n",
      "Finished processing fold 10 of 20 at 0.0 mins.\n",
      "Finished processing fold 11 of 20 at 0.0 mins.\n",
      "Finished processing fold 12 of 20 at 0.0 mins.\n",
      "Finished processing fold 13 of 20 at 0.0 mins.\n",
      "Finished processing fold 14 of 20 at 0.0 mins.\n",
      "Finished processing fold 15 of 20 at 0.0 mins.\n",
      "Finished processing fold 16 of 20 at 0.0 mins.\n",
      "Finished processing fold 17 of 20 at 0.0 mins.\n",
      "Finished processing fold 18 of 20 at 0.0 mins.\n",
      "Finished processing fold 19 of 20 at 0.0 mins.\n",
      "Finished processing fold 20 of 20 at 0.0 mins.\n",
      "Processing model_id: dtc_md5_mf75\n",
      "Finished processing fold 1 of 20 at 0.0 mins.\n",
      "Finished processing fold 2 of 20 at 0.0 mins.\n",
      "Finished processing fold 3 of 20 at 0.0 mins.\n",
      "Finished processing fold 4 of 20 at 0.0 mins.\n",
      "Finished processing fold 5 of 20 at 0.0 mins.\n",
      "Finished processing fold 6 of 20 at 0.0 mins.\n",
      "Finished processing fold 7 of 20 at 0.0 mins.\n",
      "Finished processing fold 8 of 20 at 0.0 mins.\n",
      "Finished processing fold 9 of 20 at 0.0 mins.\n",
      "Finished processing fold 10 of 20 at 0.0 mins.\n",
      "Finished processing fold 11 of 20 at 0.0 mins.\n",
      "Finished processing fold 12 of 20 at 0.0 mins.\n",
      "Finished processing fold 13 of 20 at 0.0 mins.\n",
      "Finished processing fold 14 of 20 at 0.0 mins.\n",
      "Finished processing fold 15 of 20 at 0.0 mins.\n",
      "Finished processing fold 16 of 20 at 0.0 mins.\n",
      "Finished processing fold 17 of 20 at 0.0 mins.\n",
      "Finished processing fold 18 of 20 at 0.0 mins.\n",
      "Finished processing fold 19 of 20 at 0.0 mins.\n",
      "Finished processing fold 20 of 20 at 0.0 mins.\n",
      "Processing model_id: bnb_a0.001\n",
      "Finished processing fold 1 of 20 at 0.5 mins.\n",
      "Finished processing fold 2 of 20 at 0.5 mins.\n",
      "Finished processing fold 3 of 20 at 0.6 mins.\n",
      "Finished processing fold 4 of 20 at 0.6 mins.\n",
      "Finished processing fold 5 of 20 at 0.5 mins.\n",
      "Finished processing fold 6 of 20 at 0.6 mins.\n",
      "Finished processing fold 7 of 20 at 0.5 mins.\n",
      "Finished processing fold 8 of 20 at 0.5 mins.\n",
      "Finished processing fold 9 of 20 at 0.5 mins.\n",
      "Finished processing fold 10 of 20 at 0.5 mins.\n",
      "Finished processing fold 11 of 20 at 0.5 mins.\n",
      "Finished processing fold 12 of 20 at 0.6 mins.\n",
      "Finished processing fold 13 of 20 at 0.6 mins.\n",
      "Finished processing fold 14 of 20 at 0.5 mins.\n",
      "Finished processing fold 15 of 20 at 0.5 mins.\n",
      "Finished processing fold 16 of 20 at 0.5 mins.\n",
      "Finished processing fold 17 of 20 at 0.6 mins.\n",
      "Finished processing fold 18 of 20 at 0.6 mins.\n",
      "Finished processing fold 19 of 20 at 0.6 mins.\n",
      "Finished processing fold 20 of 20 at 0.5 mins.\n",
      "Processing model_id: lr_c0.001\n",
      "Finished processing fold 1 of 20 at 0.0 mins.\n",
      "Finished processing fold 2 of 20 at 0.0 mins.\n",
      "Finished processing fold 3 of 20 at 0.0 mins.\n",
      "Finished processing fold 4 of 20 at 0.0 mins.\n",
      "Finished processing fold 5 of 20 at 0.0 mins.\n",
      "Finished processing fold 6 of 20 at 0.0 mins.\n",
      "Finished processing fold 7 of 20 at 0.0 mins.\n",
      "Finished processing fold 8 of 20 at 0.0 mins.\n",
      "Finished processing fold 9 of 20 at 0.0 mins.\n",
      "Finished processing fold 10 of 20 at 0.0 mins.\n",
      "Finished processing fold 11 of 20 at 0.0 mins.\n",
      "Finished processing fold 12 of 20 at 0.0 mins.\n",
      "Finished processing fold 13 of 20 at 0.0 mins.\n",
      "Finished processing fold 14 of 20 at 0.0 mins.\n",
      "Finished processing fold 15 of 20 at 0.0 mins.\n",
      "Finished processing fold 16 of 20 at 0.0 mins.\n",
      "Finished processing fold 17 of 20 at 0.0 mins.\n",
      "Finished processing fold 18 of 20 at 0.0 mins.\n",
      "Finished processing fold 19 of 20 at 0.0 mins.\n",
      "Finished processing fold 20 of 20 at 0.0 mins.\n",
      "Processing model_id: svm_c0.25_proba_true\n",
      "Finished processing fold 1 of 20 at 21.6 mins.\n",
      "Finished processing fold 2 of 20 at 22.4 mins.\n",
      "Finished processing fold 3 of 20 at 23.8 mins.\n",
      "Finished processing fold 4 of 20 at 22.5 mins.\n",
      "Finished processing fold 5 of 20 at 20.6 mins.\n",
      "Finished processing fold 6 of 20 at 21.4 mins.\n",
      "Finished processing fold 7 of 20 at 21.1 mins.\n",
      "Finished processing fold 8 of 20 at 21.1 mins.\n",
      "Finished processing fold 9 of 20 at 21.3 mins.\n",
      "Finished processing fold 10 of 20 at 21.3 mins.\n",
      "Finished processing fold 11 of 20 at 21.1 mins.\n",
      "Finished processing fold 12 of 20 at 21.0 mins.\n",
      "Finished processing fold 13 of 20 at 20.9 mins.\n",
      "Finished processing fold 14 of 20 at 21.1 mins.\n",
      "Finished processing fold 15 of 20 at 21.1 mins.\n",
      "Finished processing fold 16 of 20 at 21.0 mins.\n",
      "Finished processing fold 17 of 20 at 20.9 mins.\n",
      "Finished processing fold 18 of 20 at 20.9 mins.\n",
      "Finished processing fold 19 of 20 at 21.6 mins.\n",
      "Finished processing fold 20 of 20 at 21.1 mins.\n",
      "Processing model_id: knn_nn75\n",
      "Finished processing fold 1 of 20 at 45.0 mins.\n",
      "Finished processing fold 2 of 20 at 45.0 mins.\n",
      "Finished processing fold 3 of 20 at 45.4 mins.\n",
      "Finished processing fold 4 of 20 at 45.2 mins.\n",
      "Finished processing fold 5 of 20 at 45.5 mins.\n",
      "Finished processing fold 6 of 20 at 45.0 mins.\n",
      "Finished processing fold 7 of 20 at 45.4 mins.\n",
      "Finished processing fold 8 of 20 at 47.9 mins.\n",
      "Processing model_id: fnn_keras_h100sig_o2softm_regl20.01_bs10_ep100_sgd\n",
      "75818/75818 [==============================] - 22s    \n",
      "Finished processing fold 1 of 20 at 0.4 mins.\n",
      "75818/75818 [==============================] - 18s    \n",
      "Finished processing fold 2 of 20 at 0.3 mins.\n",
      "75818/75818 [==============================] - 13s    \n",
      "Finished processing fold 3 of 20 at 0.2 mins.\n",
      "75818/75818 [==============================] - 14s    \n",
      "Finished processing fold 4 of 20 at 0.2 mins.\n",
      "75818/75818 [==============================] - 16s    \n",
      "Finished processing fold 5 of 20 at 0.3 mins.\n",
      "75818/75818 [==============================] - 20s    \n",
      "Finished processing fold 6 of 20 at 0.3 mins.\n",
      "75818/75818 [==============================] - 16s    \n",
      "Finished processing fold 7 of 20 at 0.3 mins.\n",
      "75818/75818 [==============================] - 13s    \n",
      "Finished processing fold 8 of 20 at 0.2 mins.\n",
      "75818/75818 [==============================] - 15s    \n",
      "Finished processing fold 9 of 20 at 0.3 mins.\n",
      "75818/75818 [==============================] - 15s    \n",
      "Finished processing fold 10 of 20 at 0.3 mins.\n",
      "75818/75818 [==============================] - 13s    \n",
      "Finished processing fold 11 of 20 at 0.2 mins.\n",
      "75818/75818 [==============================] - 14s    \n",
      "Finished processing fold 12 of 20 at 0.2 mins.\n",
      "75818/75818 [==============================] - 13s    \n",
      "Finished processing fold 13 of 20 at 0.2 mins.\n",
      "75818/75818 [==============================] - 13s    \n",
      "Finished processing fold 14 of 20 at 0.2 mins.\n",
      "75818/75818 [==============================] - 13s    \n",
      "Finished processing fold 15 of 20 at 0.2 mins.\n",
      "75818/75818 [==============================] - 13s    \n",
      "Finished processing fold 16 of 20 at 0.2 mins.\n",
      "75818/75818 [==============================] - 13s    \n",
      "Finished processing fold 17 of 20 at 0.2 mins.\n",
      "75818/75818 [==============================] - 13s    \n",
      "Finished processing fold 18 of 20 at 0.2 mins.\n",
      "75818/75818 [==============================] - 13s    \n",
      "Finished processing fold 19 of 20 at 0.2 mins.\n",
      "75818/75818 [==============================] - 13s    \n",
      "Finished processing fold 20 of 20 at 0.2 mins.\n"
     ]
    },
    {
     "name": "stderr",
     "output_type": "stream",
     "text": [
      "//anaconda/lib/python2.7/site-packages/keras/backend/theano_backend.py:489: UserWarning: theano.function was asked to create a function computing outputs given certain inputs, but the provided input variable at index 1 is not part of the computational graph needed to compute the outputs: keras_learning_phase.\n",
      "To make this warning into an error, you can pass the parameter on_unused_input='raise' to theano.function. To disable it completely, use on_unused_input='ignore'.\n",
      "  **kwargs)\n"
     ]
    }
   ],
   "source": [
    "for m in level1Clfs:\n",
    "    model_id = m[\"model_id\"]\n",
    "    n_models = m[\"n_models\"]\n",
    "    print \"Processing model_id: %s\" % model_id\n",
    "    for fold in range(n_models):\n",
    "        start = time.time()\n",
    "        clf = None\n",
    "        if \"keras\" in model_id:\n",
    "            model_json = joblib.load(\"./models/level1/%s.joblib\" % (model_id))\n",
    "            clf = model_from_json(model_json)\n",
    "            clf.compile(loss='binary_crossentropy', optimizer='sgd', metrics=['accuracy'])\n",
    "            clf.load_weights(\"./models/level1/%s_%d_of_19.HDF5\" % (model_id, fold))\n",
    "            preds = clf.predict_proba(testFeatures.as_matrix())[:,1]\n",
    "        else:\n",
    "            clf = joblib.load('./models/level1/%s_%d_of_19.joblib' % (model_id, fold))\n",
    "            preds = clf.predict_proba(testFeatures)[:,1]\n",
    "        \n",
    "        joblib.dump(preds, \"./data/level1_test_preds/%s_%d_of_19.joblib\" % (model_id, fold))\n",
    "        print \"Finished processing fold %d of 20 at %.1f mins.\" % (fold+1, (time.time()-start)/60.)\n",
    "\n",
    "        "
   ]
  }
 ],
 "metadata": {
  "kernelspec": {
   "display_name": "Python 2",
   "language": "python",
   "name": "python2"
  },
  "language_info": {
   "codemirror_mode": {
    "name": "ipython",
    "version": 2
   },
   "file_extension": ".py",
   "mimetype": "text/x-python",
   "name": "python",
   "nbconvert_exporter": "python",
   "pygments_lexer": "ipython2",
   "version": "2.7.11"
  }
 },
 "nbformat": 4,
 "nbformat_minor": 0
}
