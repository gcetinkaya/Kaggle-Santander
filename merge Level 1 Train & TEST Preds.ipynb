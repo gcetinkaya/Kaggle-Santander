{
 "cells": [
  {
   "cell_type": "code",
   "execution_count": 1,
   "metadata": {
    "collapsed": true
   },
   "outputs": [],
   "source": [
    "import time\n",
    "\n",
    "import pandas as pd\n",
    "import numpy as np\n",
    "import joblib\n",
    "\n",
    "from sklearn.ensemble import GradientBoostingClassifier, ExtraTreesClassifier, RandomForestClassifier\n",
    "from sklearn.tree import DecisionTreeClassifier\n",
    "from sklearn.naive_bayes import BernoulliNB\n",
    "from sklearn.neighbors import KNeighborsClassifier\n",
    "from sklearn.linear_model import LogisticRegression\n",
    "from sklearn.svm import SVC\n",
    "import xgboost"
   ]
  },
  {
   "cell_type": "markdown",
   "metadata": {},
   "source": [
    "## MERGE TRAIN PREDS"
   ]
  },
  {
   "cell_type": "code",
   "execution_count": 2,
   "metadata": {
    "collapsed": true
   },
   "outputs": [],
   "source": [
    "trainDataFrame = pd.read_csv('./data/train.csv')\n",
    "trainLabels = trainDataFrame['TARGET']\n",
    "trainDataFrame = None"
   ]
  },
  {
   "cell_type": "code",
   "execution_count": 3,
   "metadata": {
    "collapsed": false
   },
   "outputs": [
    {
     "data": {
      "text/plain": [
       "(76020,)"
      ]
     },
     "execution_count": 3,
     "metadata": {},
     "output_type": "execute_result"
    }
   ],
   "source": [
    "trainLabels.shape"
   ]
  },
  {
   "cell_type": "code",
   "execution_count": 7,
   "metadata": {
    "collapsed": false
   },
   "outputs": [],
   "source": [
    "level1Clfs = [\n",
    "    {\"model_id\": \"gbc_mf10\", \"clf\": GradientBoostingClassifier(max_features=10), \"n_models\":20},\n",
    "    {\"model_id\": \"xgb_lr0.005_ne125\", \"clf\": xgboost.XGBClassifier(learning_rate=0.05, n_estimators=125), \"n_models\":20},\n",
    "    {\"model_id\": \"etc_ne100_md6_mf30\", \"clf\": ExtraTreesClassifier(n_estimators=100, max_depth=6, max_features=30), \"n_models\":20},\n",
    "    {\"model_id\": \"rfc_ne125_md6\", \"clf\": RandomForestClassifier(n_estimators=125, max_depth=6), \"n_models\":20},\n",
    "    {\"model_id\": \"dtc_md5_mf75\", \"clf\": DecisionTreeClassifier(max_depth=5, max_features=75), \"n_models\":20},\n",
    "    {\"model_id\": \"bnb_a0.001\", \"clf\": BernoulliNB(alpha=0.001), \"n_models\":20},\n",
    "    {\"model_id\": \"lr_c0.001\", \"clf\": LogisticRegression(C=0.001), \"n_models\":20},\n",
    "    {\"model_id\": \"svm_c0.25_proba_true\", \"clf\": SVC(C=0.25, probability=True), \"n_models\":20},\n",
    "    {\"model_id\": \"knn_nn75\", \"clf\": KNeighborsClassifier(n_neighbors=75), \"n_models\":8}, # only 8 models (folds: 0-7) trained for this algo. it takes ~45 mins to train a model on full training set!!!    \n",
    "    {\"model_id\": \"fnn_keras_h100sig_o2softm_regl20.01_bs10_ep100_sgd\", \"clf\": \"Keras [3920, 100 sigmoid (l2(0.01)), 2 softmax (l2(0.01))], batch:10, epochs:100, optimizer: sgd, regularizers: (l2, l2), best_model_metric: None (Last Model of iteration)\", \"n_models\":20} \n",
    "]"
   ]
  },
  {
   "cell_type": "code",
   "execution_count": 11,
   "metadata": {
    "collapsed": false
   },
   "outputs": [
    {
     "name": "stdout",
     "output_type": "stream",
     "text": [
      "Finished processing gbc model in 0.0 mins\n",
      "Finished processing xgb model in 0.0 mins\n",
      "Finished processing etc model in 0.0 mins\n",
      "Finished processing rfc model in 0.0 mins\n",
      "Finished processing dtc model in 0.0 mins\n",
      "Finished processing bnb model in 0.0 mins\n",
      "Finished processing lr model in 0.0 mins\n",
      "Finished processing svm model in 0.0 mins\n",
      "Finished processing knn model in 0.0 mins\n",
      "Finished processing fnn model in 0.0 mins\n",
      "trainLevel1Preds.shape: (76020, 188)\n",
      "saved data to './data/trainLevel1Preds.csv'\n"
     ]
    }
   ],
   "source": [
    "trainLevel1Preds = pd.DataFrame(index=range(76020))\n",
    "for m in level1Clfs:\n",
    "    start = time.time()\n",
    "    model_id = m[\"model_id\"]\n",
    "    model_id_short = model_id.split(\"_\")[0]\n",
    "    n_models = m[\"n_models\"]\n",
    "    for fold in range(n_models):\n",
    "        preds = joblib.load('./data/level1_trn_preds/%s_%d_of_19.joblib' % (model_id, fold))\n",
    "        col_name = \"%s_%d\" % (model_id_short, fold)\n",
    "        trainLevel1Preds[col_name] = preds\n",
    "    print \"Finished processing %s model in %.1f mins\" % (model_id_short, (time.time()-start)/60.)\n",
    "\n",
    "print \"trainLevel1Preds.shape: %s\" % str(trainLevel1Preds.shape)\n",
    "trainLevel1Preds['TARGET'] = trainLabels\n",
    "trainLevel1Preds.to_csv('./data/trainLevel1Preds.csv', index=False)\n",
    "print \"saved data to './data/trainLevel1Preds.csv'\""
   ]
  },
  {
   "cell_type": "code",
   "execution_count": 12,
   "metadata": {
    "collapsed": false,
    "scrolled": true
   },
   "outputs": [
    {
     "name": "stdout",
     "output_type": "stream",
     "text": [
      "(76020, 189)\n"
     ]
    },
    {
     "data": {
      "text/html": [
       "<div>\n",
       "<table border=\"1\" class=\"dataframe\">\n",
       "  <thead>\n",
       "    <tr style=\"text-align: right;\">\n",
       "      <th></th>\n",
       "      <th>gbc_0</th>\n",
       "      <th>gbc_1</th>\n",
       "      <th>gbc_2</th>\n",
       "      <th>gbc_3</th>\n",
       "      <th>gbc_4</th>\n",
       "      <th>gbc_5</th>\n",
       "      <th>gbc_6</th>\n",
       "      <th>gbc_7</th>\n",
       "      <th>gbc_8</th>\n",
       "      <th>gbc_9</th>\n",
       "      <th>...</th>\n",
       "      <th>fnn_11</th>\n",
       "      <th>fnn_12</th>\n",
       "      <th>fnn_13</th>\n",
       "      <th>fnn_14</th>\n",
       "      <th>fnn_15</th>\n",
       "      <th>fnn_16</th>\n",
       "      <th>fnn_17</th>\n",
       "      <th>fnn_18</th>\n",
       "      <th>fnn_19</th>\n",
       "      <th>TARGET</th>\n",
       "    </tr>\n",
       "  </thead>\n",
       "  <tbody>\n",
       "    <tr>\n",
       "      <th>0</th>\n",
       "      <td>0.342172</td>\n",
       "      <td>0.414435</td>\n",
       "      <td>0.323783</td>\n",
       "      <td>0.449650</td>\n",
       "      <td>0.315510</td>\n",
       "      <td>0.371713</td>\n",
       "      <td>0.344857</td>\n",
       "      <td>0.363904</td>\n",
       "      <td>0.328568</td>\n",
       "      <td>0.393100</td>\n",
       "      <td>...</td>\n",
       "      <td>0.265872</td>\n",
       "      <td>0.141779</td>\n",
       "      <td>0.301909</td>\n",
       "      <td>0.207389</td>\n",
       "      <td>0.251576</td>\n",
       "      <td>0.398962</td>\n",
       "      <td>0.358739</td>\n",
       "      <td>0.329578</td>\n",
       "      <td>0.329215</td>\n",
       "      <td>0</td>\n",
       "    </tr>\n",
       "    <tr>\n",
       "      <th>1</th>\n",
       "      <td>0.212977</td>\n",
       "      <td>0.179875</td>\n",
       "      <td>0.168360</td>\n",
       "      <td>0.277437</td>\n",
       "      <td>0.185459</td>\n",
       "      <td>0.194718</td>\n",
       "      <td>0.210133</td>\n",
       "      <td>0.172217</td>\n",
       "      <td>0.229657</td>\n",
       "      <td>0.183873</td>\n",
       "      <td>...</td>\n",
       "      <td>0.157858</td>\n",
       "      <td>0.087183</td>\n",
       "      <td>0.192595</td>\n",
       "      <td>0.130645</td>\n",
       "      <td>0.144881</td>\n",
       "      <td>0.225168</td>\n",
       "      <td>0.200090</td>\n",
       "      <td>0.181024</td>\n",
       "      <td>0.180280</td>\n",
       "      <td>0</td>\n",
       "    </tr>\n",
       "    <tr>\n",
       "      <th>2</th>\n",
       "      <td>0.060077</td>\n",
       "      <td>0.056295</td>\n",
       "      <td>0.058152</td>\n",
       "      <td>0.060049</td>\n",
       "      <td>0.052826</td>\n",
       "      <td>0.065247</td>\n",
       "      <td>0.058802</td>\n",
       "      <td>0.062107</td>\n",
       "      <td>0.054230</td>\n",
       "      <td>0.049104</td>\n",
       "      <td>...</td>\n",
       "      <td>0.059168</td>\n",
       "      <td>0.034401</td>\n",
       "      <td>0.075563</td>\n",
       "      <td>0.050149</td>\n",
       "      <td>0.062954</td>\n",
       "      <td>0.081570</td>\n",
       "      <td>0.095390</td>\n",
       "      <td>0.068544</td>\n",
       "      <td>0.065753</td>\n",
       "      <td>0</td>\n",
       "    </tr>\n",
       "    <tr>\n",
       "      <th>3</th>\n",
       "      <td>0.351010</td>\n",
       "      <td>0.464450</td>\n",
       "      <td>0.381325</td>\n",
       "      <td>0.449268</td>\n",
       "      <td>0.410513</td>\n",
       "      <td>0.451058</td>\n",
       "      <td>0.449003</td>\n",
       "      <td>0.489866</td>\n",
       "      <td>0.399165</td>\n",
       "      <td>0.416468</td>\n",
       "      <td>...</td>\n",
       "      <td>0.425196</td>\n",
       "      <td>0.286204</td>\n",
       "      <td>0.484742</td>\n",
       "      <td>0.342633</td>\n",
       "      <td>0.380800</td>\n",
       "      <td>0.434669</td>\n",
       "      <td>0.517109</td>\n",
       "      <td>0.455566</td>\n",
       "      <td>0.469757</td>\n",
       "      <td>0</td>\n",
       "    </tr>\n",
       "    <tr>\n",
       "      <th>4</th>\n",
       "      <td>0.279508</td>\n",
       "      <td>0.122038</td>\n",
       "      <td>0.199128</td>\n",
       "      <td>0.211480</td>\n",
       "      <td>0.158174</td>\n",
       "      <td>0.204654</td>\n",
       "      <td>0.178540</td>\n",
       "      <td>0.141302</td>\n",
       "      <td>0.146963</td>\n",
       "      <td>0.243928</td>\n",
       "      <td>...</td>\n",
       "      <td>0.103202</td>\n",
       "      <td>0.069171</td>\n",
       "      <td>0.140853</td>\n",
       "      <td>0.104212</td>\n",
       "      <td>0.100640</td>\n",
       "      <td>0.169018</td>\n",
       "      <td>0.165605</td>\n",
       "      <td>0.150597</td>\n",
       "      <td>0.102972</td>\n",
       "      <td>0</td>\n",
       "    </tr>\n",
       "  </tbody>\n",
       "</table>\n",
       "<p>5 rows × 189 columns</p>\n",
       "</div>"
      ],
      "text/plain": [
       "      gbc_0     gbc_1     gbc_2     gbc_3     gbc_4     gbc_5     gbc_6  \\\n",
       "0  0.342172  0.414435  0.323783  0.449650  0.315510  0.371713  0.344857   \n",
       "1  0.212977  0.179875  0.168360  0.277437  0.185459  0.194718  0.210133   \n",
       "2  0.060077  0.056295  0.058152  0.060049  0.052826  0.065247  0.058802   \n",
       "3  0.351010  0.464450  0.381325  0.449268  0.410513  0.451058  0.449003   \n",
       "4  0.279508  0.122038  0.199128  0.211480  0.158174  0.204654  0.178540   \n",
       "\n",
       "      gbc_7     gbc_8     gbc_9   ...      fnn_11    fnn_12    fnn_13  \\\n",
       "0  0.363904  0.328568  0.393100   ...    0.265872  0.141779  0.301909   \n",
       "1  0.172217  0.229657  0.183873   ...    0.157858  0.087183  0.192595   \n",
       "2  0.062107  0.054230  0.049104   ...    0.059168  0.034401  0.075563   \n",
       "3  0.489866  0.399165  0.416468   ...    0.425196  0.286204  0.484742   \n",
       "4  0.141302  0.146963  0.243928   ...    0.103202  0.069171  0.140853   \n",
       "\n",
       "     fnn_14    fnn_15    fnn_16    fnn_17    fnn_18    fnn_19  TARGET  \n",
       "0  0.207389  0.251576  0.398962  0.358739  0.329578  0.329215       0  \n",
       "1  0.130645  0.144881  0.225168  0.200090  0.181024  0.180280       0  \n",
       "2  0.050149  0.062954  0.081570  0.095390  0.068544  0.065753       0  \n",
       "3  0.342633  0.380800  0.434669  0.517109  0.455566  0.469757       0  \n",
       "4  0.104212  0.100640  0.169018  0.165605  0.150597  0.102972       0  \n",
       "\n",
       "[5 rows x 189 columns]"
      ]
     },
     "execution_count": 12,
     "metadata": {},
     "output_type": "execute_result"
    }
   ],
   "source": [
    "# test\n",
    "df = pd.read_csv('./data/trainLevel1Preds.csv')\n",
    "print df.shape\n",
    "df.head()"
   ]
  },
  {
   "cell_type": "markdown",
   "metadata": {},
   "source": [
    "## MERGE TEST PREDS"
   ]
  },
  {
   "cell_type": "code",
   "execution_count": 2,
   "metadata": {
    "collapsed": true
   },
   "outputs": [],
   "source": [
    "testDataFrame = pd.read_csv('./data/test.csv')\n",
    "testIDs = testDataFrame['ID']\n",
    "testDataFrame = None"
   ]
  },
  {
   "cell_type": "code",
   "execution_count": 3,
   "metadata": {
    "collapsed": false
   },
   "outputs": [
    {
     "data": {
      "text/plain": [
       "(75818,)"
      ]
     },
     "execution_count": 3,
     "metadata": {},
     "output_type": "execute_result"
    }
   ],
   "source": [
    "testIDs.shape"
   ]
  },
  {
   "cell_type": "code",
   "execution_count": 4,
   "metadata": {
    "collapsed": false
   },
   "outputs": [],
   "source": [
    "level1Clfs = [\n",
    "    {\"model_id\": \"gbc_mf10\", \"clf\": GradientBoostingClassifier(max_features=10), \"n_models\":20},\n",
    "    {\"model_id\": \"xgb_lr0.005_ne125\", \"clf\": xgboost.XGBClassifier(learning_rate=0.05, n_estimators=125), \"n_models\":20},\n",
    "    {\"model_id\": \"etc_ne100_md6_mf30\", \"clf\": ExtraTreesClassifier(n_estimators=100, max_depth=6, max_features=30), \"n_models\":20},\n",
    "    {\"model_id\": \"rfc_ne125_md6\", \"clf\": RandomForestClassifier(n_estimators=125, max_depth=6), \"n_models\":20},\n",
    "    {\"model_id\": \"dtc_md5_mf75\", \"clf\": DecisionTreeClassifier(max_depth=5, max_features=75), \"n_models\":20},\n",
    "    {\"model_id\": \"bnb_a0.001\", \"clf\": BernoulliNB(alpha=0.001), \"n_models\":20},\n",
    "    {\"model_id\": \"lr_c0.001\", \"clf\": LogisticRegression(C=0.001), \"n_models\":20},\n",
    "    {\"model_id\": \"svm_c0.25_proba_true\", \"clf\": SVC(C=0.25, probability=True), \"n_models\":20},\n",
    "    {\"model_id\": \"knn_nn75\", \"clf\": KNeighborsClassifier(n_neighbors=75), \"n_models\":8}, # only 8 models (folds: 0-7) trained for this algo. it takes ~45 mins to train a model on full training set!!!    \n",
    "    {\"model_id\": \"fnn_keras_h100sig_o2softm_regl20.01_bs10_ep100_sgd\", \"clf\": \"Keras [3920, 100 sigmoid (l2(0.01)), 2 softmax (l2(0.01))], batch:10, epochs:100, optimizer: sgd, regularizers: (l2, l2), best_model_metric: None (Last Model of iteration)\", \"n_models\":20} \n",
    "]"
   ]
  },
  {
   "cell_type": "code",
   "execution_count": 5,
   "metadata": {
    "collapsed": false
   },
   "outputs": [
    {
     "name": "stdout",
     "output_type": "stream",
     "text": [
      "Finished processing gbc model in 0.0 mins\n",
      "Finished processing xgb model in 0.0 mins\n",
      "Finished processing etc model in 0.0 mins\n",
      "Finished processing rfc model in 0.0 mins\n",
      "Finished processing dtc model in 0.0 mins\n",
      "Finished processing bnb model in 0.0 mins\n",
      "Finished processing lr model in 0.0 mins\n",
      "Finished processing svm model in 0.0 mins\n",
      "Finished processing knn model in 0.0 mins\n",
      "Finished processing fnn model in 0.0 mins\n",
      "testLevel1Preds.shape: (75818, 188)\n",
      "saved data to './data/testLevel1Preds.csv'\n"
     ]
    }
   ],
   "source": [
    "testLevel1Preds = pd.DataFrame(index=range(testIDs.shape[0]))\n",
    "for m in level1Clfs:\n",
    "    start = time.time()\n",
    "    model_id = m[\"model_id\"]\n",
    "    model_id_short = model_id.split(\"_\")[0]\n",
    "    n_models = m[\"n_models\"]\n",
    "    for fold in range(n_models):\n",
    "        preds = joblib.load('./data/level1_test_preds/%s_%d_of_19.joblib' % (model_id, fold))\n",
    "        col_name = \"%s_%d\" % (model_id_short, fold)\n",
    "        testLevel1Preds[col_name] = preds\n",
    "    print \"Finished processing %s model in %.1f mins\" % (model_id_short, (time.time()-start)/60.)\n",
    "\n",
    "print \"testLevel1Preds.shape: %s\" % str(testLevel1Preds.shape)\n",
    "testLevel1Preds['ID'] = testIDs\n",
    "testLevel1Preds.to_csv('./data/testLevel1Preds.csv', index=False)\n",
    "print \"saved data to './data/testLevel1Preds.csv'\""
   ]
  }
 ],
 "metadata": {
  "kernelspec": {
   "display_name": "Python 2",
   "language": "python",
   "name": "python2"
  },
  "language_info": {
   "codemirror_mode": {
    "name": "ipython",
    "version": 2
   },
   "file_extension": ".py",
   "mimetype": "text/x-python",
   "name": "python",
   "nbconvert_exporter": "python",
   "pygments_lexer": "ipython2",
   "version": "2.7.11"
  }
 },
 "nbformat": 4,
 "nbformat_minor": 0
}
