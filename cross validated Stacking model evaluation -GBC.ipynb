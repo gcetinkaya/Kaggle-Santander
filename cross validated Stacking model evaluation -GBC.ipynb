{
 "cells": [
  {
   "cell_type": "code",
   "execution_count": 31,
   "metadata": {
    "collapsed": true
   },
   "outputs": [],
   "source": [
    "import time\n",
    "\n",
    "import pandas as pd\n",
    "import numpy as np\n",
    "import joblib\n",
    "from sklearn.ensemble import GradientBoostingClassifier\n",
    "from sklearn.metrics import roc_auc_score\n",
    "from sklearn.metrics import confusion_matrix"
   ]
  },
  {
   "cell_type": "code",
   "execution_count": 2,
   "metadata": {
    "collapsed": true
   },
   "outputs": [],
   "source": [
    "trainDataFrame = pd.read_csv('./data/trainLevel1Preds.csv')\n",
    "trainLabels = trainDataFrame['TARGET']\n",
    "trainFeatures = trainDataFrame.drop(['TARGET'], axis=1)"
   ]
  },
  {
   "cell_type": "code",
   "execution_count": 4,
   "metadata": {
    "collapsed": false
   },
   "outputs": [
    {
     "name": "stdout",
     "output_type": "stream",
     "text": [
      "(76020, 189)\n",
      "(76020,)\n",
      "(76020, 188)\n"
     ]
    },
    {
     "data": {
      "text/plain": [
       "True"
      ]
     },
     "execution_count": 4,
     "metadata": {},
     "output_type": "execute_result"
    }
   ],
   "source": [
    "print trainDataFrame.shape\n",
    "print trainLabels.shape\n",
    "print trainFeatures.shape\n",
    "np.array_equal(trainLabels.index, trainFeatures.index)"
   ]
  },
  {
   "cell_type": "code",
   "execution_count": 27,
   "metadata": {
    "collapsed": true
   },
   "outputs": [],
   "source": [
    "dataTarget0 = trainDataFrame[trainDataFrame.TARGET == 0]\n",
    "dataTarget1 = trainDataFrame[trainDataFrame.TARGET == 1]\n",
    "\n",
    "def getBalancedTrainAndValidationSets():\n",
    "    # shuffle is NOT working!!! .reindex does NOT work inplace !!!!!!!!!!!!!!!!!!!!!!!! FIX THIS !!!!!!!!!!!!!!!!\n",
    "    dataTarget0.reindex(np.random.permutation(dataTarget0.index))\n",
    "    dataTarget1.reindex(np.random.permutation(dataTarget1.index))\n",
    "\n",
    "    trn0 = dataTarget0[0:36500]\n",
    "    trn1 = dataTarget1[0:1500]\n",
    "    trn = pd.concat([trn0, trn1])\n",
    "    y_train = trn['TARGET']\n",
    "    X_train = trn.drop(['TARGET'], axis=1)\n",
    "        \n",
    "    val0 = dataTarget0[36500:]\n",
    "    val1 = dataTarget1[1500:]\n",
    "    val = pd.concat([val0, val1])\n",
    "    y_val = val['TARGET']\n",
    "    X_val = val.drop(['TARGET'], axis=1)\n",
    "        \n",
    "    return X_train, y_train, X_val, y_val"
   ]
  },
  {
   "cell_type": "code",
   "execution_count": 28,
   "metadata": {
    "collapsed": false,
    "scrolled": false
   },
   "outputs": [
    {
     "name": "stdout",
     "output_type": "stream",
     "text": [
      "train auc: 0.8715\n",
      "validation auc: 0.8626\n",
      "train auc: 0.8713\n",
      "validation auc: 0.8620\n",
      "train auc: 0.8714\n",
      "validation auc: 0.8624\n",
      "train auc: 0.8732\n",
      "validation auc: 0.8625\n",
      "train auc: 0.8735\n",
      "validation auc: 0.8631\n",
      "-----------------------\n",
      "Train Mean: 0.8722\n",
      "Validation Mean: 0.8625\n",
      "Total Time (mins): 5.8\n"
     ]
    }
   ],
   "source": [
    "# cross validated performance\n",
    "n_folds = 5\n",
    "clf = GradientBoostingClassifier(max_features=7)\n",
    "trn_scores = []\n",
    "val_scores = []\n",
    "start = time.time()\n",
    "for i in range(n_folds):\n",
    "    X_train, y_train, X_val, y_val = getBalancedTrainAndValidationSets()\n",
    "    clf.fit(X_train, y_train)\n",
    "    # evaluate w .predict_proba() !!!! :\n",
    "    trn_score = roc_auc_score(y_train, clf.predict_proba(X_train)[:,1])\n",
    "    val_score = roc_auc_score(y_val, clf.predict_proba(X_val)[:,1])\n",
    "    # evaluate w .predict():\n",
    "    # trn_score = roc_auc_score(y_train, clf.predict(X_train))\n",
    "    # val_score = roc_auc_score(y_val, clf.predict(X_val))\n",
    "    print \"train auc: %.4f\" % trn_score\n",
    "    print \"validation auc: %.4f\" % val_score\n",
    "    trn_scores.append(trn_score)\n",
    "    val_scores.append(val_score)\n",
    "\n",
    "print \"-----------------------\"\n",
    "print \"Train Mean: %.4f\" % np.mean(trn_scores)\n",
    "print \"Validation Mean: %.4f\" % np.mean(val_scores)\n",
    "print \"Total Time (mins): %.1f\" % ((time.time()-start)/60.)"
   ]
  },
  {
   "cell_type": "code",
   "execution_count": 19,
   "metadata": {
    "collapsed": false
   },
   "outputs": [
    {
     "name": "stdout",
     "output_type": "stream",
     "text": [
      "(4500, 188)\n",
      "(4500,)\n",
      "(4508, 188)\n",
      "(4508,)\n"
     ]
    }
   ],
   "source": [
    "print X_train.shape\n",
    "print y_train.shape\n",
    "print X_val.shape\n",
    "print y_val.shape"
   ]
  },
  {
   "cell_type": "code",
   "execution_count": 20,
   "metadata": {
    "collapsed": false,
    "scrolled": true
   },
   "outputs": [
    {
     "data": {
      "text/plain": [
       "array([[2596,  404],\n",
       "       [ 510,  998]])"
      ]
     },
     "execution_count": 20,
     "metadata": {},
     "output_type": "execute_result"
    }
   ],
   "source": [
    "confusion_matrix(y_val, clf.predict(X_val))"
   ]
  },
  {
   "cell_type": "markdown",
   "metadata": {},
   "source": [
    "### train on all data and save feature_importances_"
   ]
  },
  {
   "cell_type": "code",
   "execution_count": 30,
   "metadata": {
    "collapsed": false
   },
   "outputs": [
    {
     "data": {
      "text/plain": [
       "GradientBoostingClassifier(init=None, learning_rate=0.1, loss='deviance',\n",
       "              max_depth=3, max_features=7, max_leaf_nodes=None,\n",
       "              min_samples_leaf=1, min_samples_split=2,\n",
       "              min_weight_fraction_leaf=0.0, n_estimators=100,\n",
       "              presort='auto', random_state=None, subsample=1.0, verbose=0,\n",
       "              warm_start=False)"
      ]
     },
     "execution_count": 30,
     "metadata": {},
     "output_type": "execute_result"
    }
   ],
   "source": [
    "model = GradientBoostingClassifier(max_features=7)\n",
    "model.fit(trainFeatures, trainLabels)\n"
   ]
  },
  {
   "cell_type": "code",
   "execution_count": 32,
   "metadata": {
    "collapsed": false
   },
   "outputs": [],
   "source": [
    "feat_imps_for_level1preds_w_gbc_mf7_all_trainset_sorted = sorted(zip(trainFeatures.columns, model.feature_importances_), key=lambda x: x[1], reverse=True)"
   ]
  },
  {
   "cell_type": "code",
   "execution_count": 33,
   "metadata": {
    "collapsed": false,
    "scrolled": true
   },
   "outputs": [
    {
     "data": {
      "text/plain": [
       "[('rfc_5', 0.022271219436144626),\n",
       " ('xgb_4', 0.020745370418321536),\n",
       " ('rfc_17', 0.017732956220901371),\n",
       " ('xgb_9', 0.017092360257458746),\n",
       " ('xgb_11', 0.016114674394330394),\n",
       " ('svm_16', 0.0160096314446889),\n",
       " ('rfc_2', 0.015823938142816171),\n",
       " ('xgb_17', 0.015756475145877455),\n",
       " ('xgb_12', 0.015720812054844834),\n",
       " ('rfc_18', 0.01550412648583859),\n",
       " ('rfc_13', 0.015199231880057527),\n",
       " ('xgb_8', 0.014816468129873922),\n",
       " ('svm_15', 0.0132701715292295),\n",
       " ('lr_19', 0.013166665953654186),\n",
       " ('fnn_10', 0.012978292938358766),\n",
       " ('rfc_3', 0.012093217772584007),\n",
       " ('gbc_7', 0.011777018041079928),\n",
       " ('gbc_2', 0.011646806421891431),\n",
       " ('svm_12', 0.011437337872007118),\n",
       " ('xgb_10', 0.011201223101746436),\n",
       " ('xgb_14', 0.011070345072233558),\n",
       " ('xgb_2', 0.011054223494070066),\n",
       " ('xgb_5', 0.010904807731260135),\n",
       " ('xgb_6', 0.01078255866133758),\n",
       " ('svm_17', 0.01054030719700017),\n",
       " ('gbc_18', 0.010350142038380193),\n",
       " ('svm_0', 0.010195283386965192),\n",
       " ('svm_9', 0.0099980222730563176),\n",
       " ('svm_5', 0.0094899618469975345),\n",
       " ('etc_9', 0.0093723939477139279),\n",
       " ('etc_2', 0.009113852670214374),\n",
       " ('rfc_16', 0.0091043162295515855),\n",
       " ('fnn_5', 0.0090531313618776206),\n",
       " ('svm_13', 0.0090260615408130213),\n",
       " ('etc_13', 0.0089721489378179302),\n",
       " ('knn_5', 0.008766519698498218),\n",
       " ('xgb_0', 0.0087287300555372611),\n",
       " ('xgb_16', 0.0087186541643411199),\n",
       " ('xgb_18', 0.0086833548384173866),\n",
       " ('xgb_1', 0.0085557583821260202),\n",
       " ('lr_13', 0.0085495442855101581),\n",
       " ('gbc_19', 0.0082969074894841573),\n",
       " ('gbc_1', 0.0081645035162815384),\n",
       " ('rfc_0', 0.0080742850602262984),\n",
       " ('xgb_13', 0.0080203356401092659),\n",
       " ('svm_8', 0.0076812307823960367),\n",
       " ('fnn_12', 0.0074430673732774986),\n",
       " ('gbc_3', 0.007204988117324943),\n",
       " ('gbc_15', 0.007187509273717506),\n",
       " ('fnn_15', 0.0071800168905376037),\n",
       " ('xgb_7', 0.0071768772737197438),\n",
       " ('lr_2', 0.0068705903415508798),\n",
       " ('rfc_4', 0.0067936411667973619),\n",
       " ('rfc_10', 0.0066628758043682981),\n",
       " ('lr_3', 0.0065510932422039184),\n",
       " ('gbc_0', 0.0065311408922835885),\n",
       " ('svm_2', 0.0065235394657380905),\n",
       " ('lr_0', 0.0065220054646211055),\n",
       " ('lr_5', 0.0064921010840775749),\n",
       " ('gbc_4', 0.0063830317323734813),\n",
       " ('etc_15', 0.0062829391749852316),\n",
       " ('rfc_1', 0.0062365005240863237),\n",
       " ('lr_9', 0.0062278290635167073),\n",
       " ('fnn_18', 0.0060983293888495381),\n",
       " ('dtc_4', 0.0060866145120893889),\n",
       " ('knn_0', 0.0060812009782272849),\n",
       " ('gbc_12', 0.0060407469539382674),\n",
       " ('gbc_8', 0.0059016584832263987),\n",
       " ('etc_18', 0.0059013041528291907),\n",
       " ('fnn_8', 0.0058970964731994554),\n",
       " ('rfc_7', 0.0057767509774164956),\n",
       " ('lr_7', 0.005764792620015593),\n",
       " ('xgb_3', 0.0057552531939030491),\n",
       " ('fnn_9', 0.0057113820427430262),\n",
       " ('etc_11', 0.0056946052333920428),\n",
       " ('fnn_19', 0.0056910373801797552),\n",
       " ('svm_11', 0.0056527599554888593),\n",
       " ('lr_4', 0.0055793828985104136),\n",
       " ('gbc_16', 0.0055313722878172359),\n",
       " ('dtc_10', 0.0055223370720803933),\n",
       " ('lr_6', 0.0054767231956874681),\n",
       " ('rfc_6', 0.0053878446539273647),\n",
       " ('gbc_10', 0.005274679730447273),\n",
       " ('gbc_5', 0.0052389538328747702),\n",
       " ('dtc_18', 0.0052129437056615303),\n",
       " ('knn_3', 0.0051190178824316469),\n",
       " ('xgb_15', 0.0051114075702867624),\n",
       " ('fnn_6', 0.0050209648172668438),\n",
       " ('rfc_11', 0.0049832659527756671),\n",
       " ('svm_10', 0.0049470615942935284),\n",
       " ('fnn_11', 0.0049228681003292184),\n",
       " ('rfc_8', 0.0049159888591527494),\n",
       " ('lr_8', 0.0048259924471818084),\n",
       " ('rfc_12', 0.0047233022403595079),\n",
       " ('etc_19', 0.004715358194180023),\n",
       " ('fnn_13', 0.0047148721059761577),\n",
       " ('etc_17', 0.0047005116249037061),\n",
       " ('xgb_19', 0.0046814902743771694),\n",
       " ('bnb_18', 0.0045581611187608603),\n",
       " ('svm_14', 0.0045549286949084274),\n",
       " ('knn_4', 0.0045306955804477007),\n",
       " ('fnn_3', 0.0045031355639127916),\n",
       " ('etc_16', 0.0044055992863211504),\n",
       " ('etc_6', 0.0043738309067035209),\n",
       " ('gbc_9', 0.0043691758494629604),\n",
       " ('etc_10', 0.0043640088145004748),\n",
       " ('rfc_15', 0.0043002495476687644),\n",
       " ('gbc_14', 0.0040763449716839009),\n",
       " ('rfc_9', 0.0038240445665026512),\n",
       " ('etc_12', 0.0037910184484660297),\n",
       " ('etc_1', 0.0037421980865826577),\n",
       " ('gbc_13', 0.0035792258534387794),\n",
       " ('gbc_6', 0.0034737453523762808),\n",
       " ('lr_1', 0.0033900165442831546),\n",
       " ('bnb_16', 0.0033815616540560484),\n",
       " ('lr_11', 0.0032856826405205865),\n",
       " ('lr_17', 0.0032439985174499875),\n",
       " ('svm_18', 0.0031961580002302079),\n",
       " ('fnn_16', 0.0031476262199068273),\n",
       " ('svm_4', 0.0031124034499414406),\n",
       " ('dtc_9', 0.0030912831859837386),\n",
       " ('svm_6', 0.0030497782601192108),\n",
       " ('fnn_1', 0.0029765710884088036),\n",
       " ('fnn_2', 0.0029205451016398004),\n",
       " ('svm_3', 0.0028442801155934725),\n",
       " ('dtc_7', 0.0028278163241321442),\n",
       " ('lr_14', 0.0028250468561053727),\n",
       " ('svm_1', 0.0028136906573557451),\n",
       " ('svm_7', 0.0027682911838421685),\n",
       " ('etc_5', 0.0027147563366224079),\n",
       " ('etc_0', 0.0026193864933287225),\n",
       " ('fnn_14', 0.002565810290259075),\n",
       " ('etc_8', 0.0025333495875346449),\n",
       " ('knn_6', 0.0024577123653300595),\n",
       " ('knn_7', 0.0023352027307947678),\n",
       " ('rfc_19', 0.002228430247313454),\n",
       " ('lr_15', 0.0021814819359044137),\n",
       " ('fnn_0', 0.0019344555589877119),\n",
       " ('bnb_6', 0.0018387857971382227),\n",
       " ('lr_12', 0.0017506119650698389),\n",
       " ('fnn_4', 0.0016022182218219092),\n",
       " ('dtc_15', 0.0015873816538898205),\n",
       " ('etc_7', 0.0015491271079629426),\n",
       " ('gbc_17', 0.0015086175296849188),\n",
       " ('dtc_12', 0.0014755773098489376),\n",
       " ('rfc_14', 0.0014729951307853862),\n",
       " ('gbc_11', 0.0014191023260691259),\n",
       " ('svm_19', 0.0013038516619587929),\n",
       " ('bnb_14', 0.0012597093160579621),\n",
       " ('dtc_14', 0.0012131132161363285),\n",
       " ('lr_16', 0.0010394632218713616),\n",
       " ('bnb_3', 0.00097024550398820025),\n",
       " ('knn_1', 0.00089768638836148151),\n",
       " ('dtc_0', 0.00070739405769206995),\n",
       " ('knn_2', 0.00059935580958501674),\n",
       " ('etc_4', 0.00031111237353794266),\n",
       " ('fnn_17', 4.6957206037292856e-05),\n",
       " ('etc_3', 0.0),\n",
       " ('etc_14', 0.0),\n",
       " ('dtc_1', 0.0),\n",
       " ('dtc_2', 0.0),\n",
       " ('dtc_3', 0.0),\n",
       " ('dtc_5', 0.0),\n",
       " ('dtc_6', 0.0),\n",
       " ('dtc_8', 0.0),\n",
       " ('dtc_11', 0.0),\n",
       " ('dtc_13', 0.0),\n",
       " ('dtc_16', 0.0),\n",
       " ('dtc_17', 0.0),\n",
       " ('dtc_19', 0.0),\n",
       " ('bnb_0', 0.0),\n",
       " ('bnb_1', 0.0),\n",
       " ('bnb_2', 0.0),\n",
       " ('bnb_4', 0.0),\n",
       " ('bnb_5', 0.0),\n",
       " ('bnb_7', 0.0),\n",
       " ('bnb_8', 0.0),\n",
       " ('bnb_9', 0.0),\n",
       " ('bnb_10', 0.0),\n",
       " ('bnb_11', 0.0),\n",
       " ('bnb_12', 0.0),\n",
       " ('bnb_13', 0.0),\n",
       " ('bnb_15', 0.0),\n",
       " ('bnb_17', 0.0),\n",
       " ('bnb_19', 0.0),\n",
       " ('lr_10', 0.0),\n",
       " ('lr_18', 0.0),\n",
       " ('fnn_7', 0.0)]"
      ]
     },
     "execution_count": 33,
     "metadata": {},
     "output_type": "execute_result"
    }
   ],
   "source": [
    "feat_imps_for_level1preds_w_gbc_mf7_all_trainset_sorted"
   ]
  },
  {
   "cell_type": "code",
   "execution_count": 34,
   "metadata": {
    "collapsed": false
   },
   "outputs": [
    {
     "data": {
      "text/plain": [
       "['./data/feat_imps_for_level1preds_w_gbc_mf7_all_trainset_sorted']"
      ]
     },
     "execution_count": 34,
     "metadata": {},
     "output_type": "execute_result"
    }
   ],
   "source": [
    "joblib.dump(feat_imps_for_level1preds_w_gbc_mf7_all_trainset_sorted, './data/feat_imps_for_level1preds_w_gbc_mf7_all_trainset_sorted')"
   ]
  }
 ],
 "metadata": {
  "kernelspec": {
   "display_name": "Python 2",
   "language": "python",
   "name": "python2"
  },
  "language_info": {
   "codemirror_mode": {
    "name": "ipython",
    "version": 2
   },
   "file_extension": ".py",
   "mimetype": "text/x-python",
   "name": "python",
   "nbconvert_exporter": "python",
   "pygments_lexer": "ipython2",
   "version": "2.7.11"
  }
 },
 "nbformat": 4,
 "nbformat_minor": 0
}
